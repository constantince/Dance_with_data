{
 "cells": [
  {
   "cell_type": "code",
   "execution_count": 35,
   "metadata": {},
   "outputs": [],
   "source": [
    "import requests as fetch\n",
    "from bs4 import BeautifulSoup\n",
    "# print(BeautifulSoup, fetch)"
   ]
  },
  {
   "cell_type": "code",
   "execution_count": 36,
   "metadata": {},
   "outputs": [],
   "source": [
    "# https://movie.douban.com/top250\n",
    "# https://movie.douban.com/top250?start=25&filter=\n",
    "# https://movie.douban.com/top250?start=50&filter="
   ]
  },
  {
   "cell_type": "code",
   "execution_count": 37,
   "metadata": {},
   "outputs": [],
   "source": [
    "#setting headers\n",
    "headers = {\n",
    "    \"User-Agent\": \"Mozilla/5.0 (Macintosh; Intel Mac OS X 10_15_6) AppleWebKit/537.36 (KHTML, like Gecko) Chrome/87.0.4280.67 Safari/537.36\"\n",
    "}\n",
    "#sending request\n",
    "html = fetch.get(\"https://movie.douban.com/top250\", headers=headers)"
   ]
  },
  {
   "cell_type": "code",
   "execution_count": 38,
   "metadata": {},
   "outputs": [
    {
     "data": {
      "text/plain": [
       "<Response [200]>"
      ]
     },
     "execution_count": 38,
     "metadata": {},
     "output_type": "execute_result"
    }
   ],
   "source": [
    "html"
   ]
  },
  {
   "cell_type": "code",
   "execution_count": 87,
   "metadata": {},
   "outputs": [
    {
     "data": {
      "text/plain": [
       "'\\n豆瓣电影 Top 250\\n'"
      ]
     },
     "execution_count": 87,
     "metadata": {},
     "output_type": "execute_result"
    }
   ],
   "source": [
    "soup = BeautifulSoup(html.text, 'html.parser')\n",
    "soup.title.string"
   ]
  },
  {
   "cell_type": "code",
   "execution_count": 287,
   "metadata": {},
   "outputs": [],
   "source": [
    "movie_imgs = soup.select(\".item .pic img\")\n",
    "movie_quotes = soup.select(\".item .quote .inq\")\n",
    "movie_bds = soup.select(\".item .info .bd p:nth-of-type(1)\")"
   ]
  },
  {
   "cell_type": "code",
   "execution_count": 294,
   "metadata": {},
   "outputs": [
    {
     "name": "stdout",
     "output_type": "stream",
     "text": [
      "\n",
      "                            导演: 弗兰克·德拉邦特 Frank Darabont   主演: 蒂姆·罗宾斯 Tim Robbins /...\n",
      "                            1994 / 美国 / 犯罪 剧情\n",
      "                        \n",
      "\n",
      "                            导演: 陈凯歌 Kaige Chen   主演: 张国荣 Leslie Cheung / 张丰毅 Fengyi Zha...\n",
      "                            1993 / 中国大陆 中国香港 / 剧情 爱情 同性\n",
      "                        \n",
      "\n",
      "                            导演: 罗伯特·泽米吉斯 Robert Zemeckis   主演: 汤姆·汉克斯 Tom Hanks / ...\n",
      "                            1994 / 美国 / 剧情 爱情\n",
      "                        \n",
      "\n",
      "                            导演: 吕克·贝松 Luc Besson   主演: 让·雷诺 Jean Reno / 娜塔莉·波特曼 ...\n",
      "                            1994 / 法国 美国 / 剧情 动作 犯罪\n",
      "                        \n",
      "\n",
      "                            导演: 詹姆斯·卡梅隆 James Cameron   主演: 莱昂纳多·迪卡普里奥 Leonardo...\n",
      "                            1997 / 美国 / 剧情 爱情 灾难\n",
      "                        \n",
      "\n",
      "                            导演: 罗伯托·贝尼尼 Roberto Benigni   主演: 罗伯托·贝尼尼 Roberto Beni...\n",
      "                            1997 / 意大利 / 剧情 喜剧 爱情 战争\n",
      "                        \n",
      "\n",
      "                            导演: 宫崎骏 Hayao Miyazaki   主演: 柊瑠美 Rumi Hîragi / 入野自由 Miy...\n",
      "                            2001 / 日本 / 剧情 动画 奇幻\n",
      "                        \n",
      "\n",
      "                            导演: 史蒂文·斯皮尔伯格 Steven Spielberg   主演: 连姆·尼森 Liam Neeson...\n",
      "                            1993 / 美国 / 剧情 历史 战争\n",
      "                        \n",
      "\n",
      "                            导演: 克里斯托弗·诺兰 Christopher Nolan   主演: 莱昂纳多·迪卡普里奥 Le...\n",
      "                            2010 / 美国 英国 / 剧情 科幻 悬疑 冒险\n",
      "                        \n",
      "\n",
      "                            导演: 莱塞·霍尔斯道姆 Lasse Hallström   主演: 理查·基尔 Richard Ger...\n",
      "                            2009 / 美国 英国 / 剧情\n",
      "                        \n",
      "\n",
      "                            导演: 朱塞佩·托纳多雷 Giuseppe Tornatore   主演: 蒂姆·罗斯 Tim Roth / ...\n",
      "                            1998 / 意大利 / 剧情 音乐\n",
      "                        \n",
      "\n",
      "                            导演: 克里斯托弗·诺兰 Christopher Nolan   主演: 马修·麦康纳 Matthew Mc...\n",
      "                            2014 / 美国 英国 加拿大 冰岛 / 剧情 科幻 冒险\n",
      "                        \n",
      "\n",
      "                            导演: 彼得·威尔 Peter Weir   主演: 金·凯瑞 Jim Carrey / 劳拉·琳妮 Lau...\n",
      "                            1998 / 美国 / 剧情 科幻\n",
      "                        \n",
      "\n",
      "                            导演: 拉库马·希拉尼 Rajkumar Hirani   主演: 阿米尔·汗 Aamir Khan / 卡...\n",
      "                            2009 / 印度 / 剧情 喜剧 爱情 歌舞\n",
      "                        \n",
      "\n",
      "                            导演: 安德鲁·斯坦顿 Andrew Stanton   主演: 本·贝尔特 Ben Burtt / 艾丽...\n",
      "                            2008 / 美国 / 科幻 动画 冒险\n",
      "                        \n",
      "\n",
      "                            导演: 克里斯托夫·巴拉蒂 Christophe Barratier   主演: 热拉尔·朱尼奥 Gé...\n",
      "                            2004 / 法国 瑞士 德国 / 剧情 音乐\n",
      "                        \n",
      "\n",
      "                            导演: 刘镇伟 Jeffrey Lau   主演: 周星驰 Stephen Chow / 吴孟达 Man Tat Ng...\n",
      "                            1995 / 中国香港 中国大陆 / 喜剧 爱情 奇幻 古装\n",
      "                        \n",
      "\n",
      "                            导演: 黄东赫 Dong-hyuk Hwang   主演: 孔侑 Yoo Gong / 郑有美 Yu-mi Jung /...\n",
      "                            2011 / 韩国 / 剧情\n",
      "                        \n",
      "\n",
      "                            导演: 拜伦·霍华德 Byron Howard / 瑞奇·摩尔 Rich Moore   主演: 金妮弗·...\n",
      "                            2016 / 美国 / 喜剧 动画 冒险\n",
      "                        \n",
      "\n",
      "                            导演: 刘伟强 / 麦兆辉   主演: 刘德华 / 梁朝伟 / 黄秋生\n",
      "                            2002 / 中国香港 / 剧情 犯罪 悬疑\n",
      "                        \n",
      "\n",
      "                            导演: 弗朗西斯·福特·科波拉 Francis Ford Coppola   主演: 马龙·白兰度 M...\n",
      "                            1972 / 美国 / 剧情 犯罪\n",
      "                        \n",
      "\n",
      "                            导演: 宫崎骏 Hayao Miyazaki   主演: 日高法子 Noriko Hidaka / 坂本千夏 Ch...\n",
      "                            1988 / 日本 / 动画 奇幻 冒险\n",
      "                        \n",
      "\n",
      "                            导演: 加布里尔·穆奇诺 Gabriele Muccino   主演: 威尔·史密斯 Will Smith ...\n",
      "                            2006 / 美国 / 剧情 传记 家庭\n",
      "                        \n",
      "\n",
      "                            导演: 罗伯·莱纳 Rob Reiner   主演: 玛德琳·卡罗尔 Madeline Carroll / 卡...\n",
      "                            2010 / 美国 / 剧情 喜剧 爱情\n",
      "                        \n",
      "\n",
      "                            导演: 奥利维·那卡什 Olivier Nakache / 艾力克·托兰达 Eric Toledano   主...\n",
      "                            2011 / 法国 / 剧情 喜剧\n",
      "                        \n"
     ]
    }
   ],
   "source": [
    "movies = []\n",
    "for i in range(len(movie_imgs)):\n",
    "    if(movie_imgs[i] is None or movie_quotes[i] is None or movie_bds[i] is None):\n",
    "        pass\n",
    "    else:\n",
    "        item_movie = dict(\n",
    "            src=movie_imgs[i].get(\"src\"),\n",
    "            title=movie_imgs[i].get(\"alt\"),\n",
    "            quote=movie_quotes[i].string,\n",
    "            bd=movie_bds[i].text.strip().replace('\\n', \"\").replace('\\s', \"\")\n",
    "        )\n",
    "        print(movie_bds[i].text)\n",
    "        movies.append(item_movie)"
   ]
  },
  {
   "cell_type": "code",
   "execution_count": 298,
   "metadata": {},
   "outputs": [
    {
     "data": {
      "text/plain": [
       "'导演: 弗兰克·德拉邦特 Frank Darabont\\xa0\\xa0\\xa0主演: 蒂姆·罗宾斯 Tim Robbins /...                            1994\\xa0/\\xa0美国\\xa0/\\xa0犯罪 剧情'"
      ]
     },
     "execution_count": 298,
     "metadata": {},
     "output_type": "execute_result"
    }
   ],
   "source": [
    "movies[0]['bd']"
   ]
  },
  {
   "cell_type": "code",
   "execution_count": 299,
   "metadata": {},
   "outputs": [],
   "source": [
    "import pandas as pd"
   ]
  },
  {
   "cell_type": "code",
   "execution_count": 300,
   "metadata": {},
   "outputs": [
    {
     "data": {
      "text/html": [
       "<div>\n",
       "<style scoped>\n",
       "    .dataframe tbody tr th:only-of-type {\n",
       "        vertical-align: middle;\n",
       "    }\n",
       "\n",
       "    .dataframe tbody tr th {\n",
       "        vertical-align: top;\n",
       "    }\n",
       "\n",
       "    .dataframe thead th {\n",
       "        text-align: right;\n",
       "    }\n",
       "</style>\n",
       "<table border=\"1\" class=\"dataframe\">\n",
       "  <thead>\n",
       "    <tr style=\"text-align: right;\">\n",
       "      <th></th>\n",
       "      <th>src</th>\n",
       "      <th>title</th>\n",
       "      <th>quote</th>\n",
       "      <th>bd</th>\n",
       "    </tr>\n",
       "  </thead>\n",
       "  <tbody>\n",
       "    <tr>\n",
       "      <th>20</th>\n",
       "      <td>https://img9.doubanio.com/view/photo/s_ratio_p...</td>\n",
       "      <td>教父</td>\n",
       "      <td>千万不要记恨你的对手，这样会让你失去理智。</td>\n",
       "      <td>导演: 弗朗西斯·福特·科波拉 Francis Ford Coppola   主演: 马龙·...</td>\n",
       "    </tr>\n",
       "    <tr>\n",
       "      <th>21</th>\n",
       "      <td>https://img9.doubanio.com/view/photo/s_ratio_p...</td>\n",
       "      <td>龙猫</td>\n",
       "      <td>人人心中都有个龙猫，童年就永远不会消失。</td>\n",
       "      <td>导演: 宫崎骏 Hayao Miyazaki   主演: 日高法子 Noriko Hidak...</td>\n",
       "    </tr>\n",
       "    <tr>\n",
       "      <th>22</th>\n",
       "      <td>https://img9.doubanio.com/view/photo/s_ratio_p...</td>\n",
       "      <td>当幸福来敲门</td>\n",
       "      <td>平民励志片。</td>\n",
       "      <td>导演: 加布里尔·穆奇诺 Gabriele Muccino   主演: 威尔·史密斯 Wil...</td>\n",
       "    </tr>\n",
       "    <tr>\n",
       "      <th>23</th>\n",
       "      <td>https://img1.doubanio.com/view/photo/s_ratio_p...</td>\n",
       "      <td>怦然心动</td>\n",
       "      <td>真正的幸福是来自内心深处。</td>\n",
       "      <td>导演: 罗伯·莱纳 Rob Reiner   主演: 玛德琳·卡罗尔 Madeline Ca...</td>\n",
       "    </tr>\n",
       "    <tr>\n",
       "      <th>24</th>\n",
       "      <td>https://img9.doubanio.com/view/photo/s_ratio_p...</td>\n",
       "      <td>触不可及</td>\n",
       "      <td>满满温情的高雅喜剧。</td>\n",
       "      <td>导演: 奥利维·那卡什 Olivier Nakache / 艾力克·托兰达 Eric Tol...</td>\n",
       "    </tr>\n",
       "  </tbody>\n",
       "</table>\n",
       "</div>"
      ],
      "text/plain": [
       "                                                  src   title  \\\n",
       "20  https://img9.doubanio.com/view/photo/s_ratio_p...      教父   \n",
       "21  https://img9.doubanio.com/view/photo/s_ratio_p...      龙猫   \n",
       "22  https://img9.doubanio.com/view/photo/s_ratio_p...  当幸福来敲门   \n",
       "23  https://img1.doubanio.com/view/photo/s_ratio_p...    怦然心动   \n",
       "24  https://img9.doubanio.com/view/photo/s_ratio_p...    触不可及   \n",
       "\n",
       "                    quote                                                 bd  \n",
       "20  千万不要记恨你的对手，这样会让你失去理智。  导演: 弗朗西斯·福特·科波拉 Francis Ford Coppola   主演: 马龙·...  \n",
       "21   人人心中都有个龙猫，童年就永远不会消失。  导演: 宫崎骏 Hayao Miyazaki   主演: 日高法子 Noriko Hidak...  \n",
       "22                平民励志片。   导演: 加布里尔·穆奇诺 Gabriele Muccino   主演: 威尔·史密斯 Wil...  \n",
       "23          真正的幸福是来自内心深处。  导演: 罗伯·莱纳 Rob Reiner   主演: 玛德琳·卡罗尔 Madeline Ca...  \n",
       "24             满满温情的高雅喜剧。  导演: 奥利维·那卡什 Olivier Nakache / 艾力克·托兰达 Eric Tol...  "
      ]
     },
     "execution_count": 300,
     "metadata": {},
     "output_type": "execute_result"
    }
   ],
   "source": [
    "df = pd.DataFrame(movies)\n",
    "df.tail()"
   ]
  },
  {
   "cell_type": "code",
   "execution_count": 301,
   "metadata": {},
   "outputs": [],
   "source": [
    "df.to_csv(\"./movie2.csv\", encoding=\"utf_8_sig\")"
   ]
  },
  {
   "cell_type": "code",
   "execution_count": 90,
   "metadata": {},
   "outputs": [
    {
     "data": {
      "text/plain": [
       "'https://img2.doubanio.com/view/photo/s_ratio_poster/public/p480747492.jpg'"
      ]
     },
     "execution_count": 90,
     "metadata": {},
     "output_type": "execute_result"
    }
   ],
   "source": [
    "item[0].get(\"src\")"
   ]
  },
  {
   "cell_type": "code",
   "execution_count": 91,
   "metadata": {},
   "outputs": [],
   "source": [
    "movie_star = soup.select(\".item .rating_num\")"
   ]
  },
  {
   "cell_type": "code",
   "execution_count": 92,
   "metadata": {},
   "outputs": [
    {
     "data": {
      "text/plain": [
       "'9.7'"
      ]
     },
     "execution_count": 92,
     "metadata": {},
     "output_type": "execute_result"
    }
   ],
   "source": [
    "movie_star[0].string"
   ]
  },
  {
   "cell_type": "code",
   "execution_count": 103,
   "metadata": {},
   "outputs": [
    {
     "data": {
      "text/plain": [
       "'希望让人自由。'"
      ]
     },
     "execution_count": 103,
     "metadata": {},
     "output_type": "execute_result"
    }
   ],
   "source": [
    "movie_quote = soup.select(\".item .quote .inq\")\n",
    "movie_quote[0].string"
   ]
  },
  {
   "cell_type": "code",
   "execution_count": 109,
   "metadata": {},
   "outputs": [
    {
     "data": {
      "text/plain": [
       "<p class=\"\">\n",
       "                            导演: 弗兰克·德拉邦特 Frank Darabont   主演: 蒂姆·罗宾斯 Tim Robbins /...<br/>\n",
       "                            1994 / 美国 / 犯罪 剧情\n",
       "                        </p>"
      ]
     },
     "execution_count": 109,
     "metadata": {},
     "output_type": "execute_result"
    }
   ],
   "source": [
    "movie_bd = soup.select(\".item .info .bd p\", limit=2)\n",
    "movie_bd[0]"
   ]
  },
  {
   "cell_type": "code",
   "execution_count": 159,
   "metadata": {},
   "outputs": [],
   "source": [
    "import re"
   ]
  },
  {
   "cell_type": "code",
   "execution_count": 201,
   "metadata": {},
   "outputs": [
    {
     "data": {
      "text/plain": [
       "'导演: 弗兰克·德拉邦特 Frank Darabont   主演: 蒂姆·罗宾斯 Tim Robbins /...<br/>1994 / 美国 / 犯罪 剧情'"
      ]
     },
     "execution_count": 201,
     "metadata": {},
     "output_type": "execute_result"
    }
   ],
   "source": [
    "str = '<p>导演: 弗兰克·德拉邦特 Frank Darabont   主演: 蒂姆·罗宾斯 Tim Robbins /...<br/>1994 / 美国 / 犯罪 剧情</p>'\n",
    "re.match( r'<(\\w+)[^>]?>(.*)(?=\\<\\/\\1)', str, re.M|re.I).group(2)"
   ]
  },
  {
   "cell_type": "code",
   "execution_count": 179,
   "metadata": {},
   "outputs": [
    {
     "data": {
      "text/plain": [
       "'  <p>导演: 弗兰克·德拉邦特 Frank Darabont   主演: 蒂姆·罗宾斯 Tim Robbins /...<br/>1994 / 美国 / 犯罪 剧情</p>  '"
      ]
     },
     "execution_count": 179,
     "metadata": {},
     "output_type": "execute_result"
    }
   ],
   "source": [
    "str = '  <p>导演: 弗兰克·德拉邦特 Frank Darabont   主演: 蒂姆·罗宾斯 Tim Robbins /...<br/>1994 / 美国 / 犯罪 剧情</p>  '\n",
    "str"
   ]
  },
  {
   "cell_type": "code",
   "execution_count": 180,
   "metadata": {},
   "outputs": [
    {
     "data": {
      "text/plain": [
       "'<p>导演: 弗兰克·德拉邦特 Frank Darabont   主演: 蒂姆·罗宾斯 Tim Robbins /...<br/>1994 / 美国 / 犯罪 剧情</p>'"
      ]
     },
     "execution_count": 180,
     "metadata": {},
     "output_type": "execute_result"
    }
   ],
   "source": [
    "str.strip()"
   ]
  },
  {
   "cell_type": "code",
   "execution_count": null,
   "metadata": {},
   "outputs": [],
   "source": []
  }
 ],
 "metadata": {
  "kernelspec": {
   "display_name": "Python 3",
   "language": "python",
   "name": "python3"
  },
  "language_info": {
   "codemirror_mode": {
    "name": "ipython",
    "version": 3
   },
   "file_extension": ".py",
   "mimetype": "text/x-python",
   "name": "python",
   "nbconvert_exporter": "python",
   "pygments_lexer": "ipython3",
   "version": "3.8.5"
  }
 },
 "nbformat": 4,
 "nbformat_minor": 4
}
